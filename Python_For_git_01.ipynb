{
 "cells": [
  {
   "cell_type": "code",
   "execution_count": 1,
   "metadata": {},
   "outputs": [
    {
     "name": "stdout",
     "output_type": "stream",
     "text": [
      "Day\t\t Temperature\n",
      "August  11 \t 320\n",
      "August  25 \t 435\n",
      "August  15 \t 128\n",
      "August  26 \t 390\n",
      "August  27 \t 120\n",
      "August  7 \t 250\n",
      "August  20 \t 122\n",
      "\n",
      "Highest temperature was 435  on August  27\n",
      "Lowest temperature was 120  on August  7\n"
     ]
    }
   ],
   "source": [
    "import random\n",
    "tempProf = {}\n",
    "for i in range(10):\n",
    "    x = random.randrange(1,31)\n",
    "    y = random.randrange(36,500)\n",
    "    tempProf[x]=y\n",
    "print(\"Day\\t\\t Temperature\")\n",
    "for day,temp in tempProf.items():\n",
    "    print(\"August \",day,\"\\t\",temp)\n",
    "print(\"\")\n",
    "print(\"Highest temperature was\",max(tempProf.values()),\" on August \",max(tempProf.keys()))\n",
    "print(\"Lowest temperature was\",min(tempProf.values()),\" on August \",min(tempProf.keys()))"
   ]
  },
  {
   "cell_type": "markdown",
   "metadata": {},
   "source": [
    "# Python Code to print Highest and lowest Temperatures from a random dataset\n"
   ]
  }
 ],
 "metadata": {
  "kernelspec": {
   "display_name": "Python 3",
   "language": "python",
   "name": "python3"
  },
  "language_info": {
   "codemirror_mode": {
    "name": "ipython",
    "version": 3
   },
   "file_extension": ".py",
   "mimetype": "text/x-python",
   "name": "python",
   "nbconvert_exporter": "python",
   "pygments_lexer": "ipython3",
   "version": "3.7.3"
  }
 },
 "nbformat": 4,
 "nbformat_minor": 2
}
