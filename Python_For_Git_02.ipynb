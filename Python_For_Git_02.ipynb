{
 "cells": [
  {
   "cell_type": "markdown",
   "metadata": {},
   "source": [
    "Python 3 program for printing the task execution sequence according to the execution time.\n"
   ]
  },
  {
   "cell_type": "code",
   "execution_count": 2,
   "metadata": {},
   "outputs": [
    {
     "name": "stdout",
     "output_type": "stream",
     "text": [
      "Tasks are: \n",
      "\n",
      "Execution_Time (in secs)\t\t Deadline (in secs)\n",
      "8 \t\t\t\t\t\t 73\n",
      "14 \t\t\t\t\t\t 99\n",
      "47 \t\t\t\t\t\t 79\n",
      "40 \t\t\t\t\t\t 77\n",
      "21 \t\t\t\t\t\t 76\n",
      "31 \t\t\t\t\t\t 72\n",
      "45 \t\t\t\t\t\t 99\n",
      "\n",
      "Tasks will be executed by the processor in following sequence:\n",
      "[(8, 73), (14, 99), (21, 76), (31, 72), (40, 77), (45, 99), (47, 79)]\n"
     ]
    }
   ],
   "source": [
    "import random\n",
    "Task = {}\n",
    "for i in range(7):\n",
    "    x = random.randrange(0,50)\n",
    "    y = random.randrange(51,100)\n",
    "    Task[x]=y\n",
    "print(\"Tasks are: \")\n",
    "print(\"\")\n",
    "print(\"Execution_Time (in secs)\\t\\t Deadline (in secs)\")\n",
    "for executionTime,deadline in Task.items():\n",
    "    print(executionTime,\"\\t\\t\\t\\t\\t\\t\",deadline)\n",
    "print(\"\")\n",
    "    \n",
    "print(\"Tasks will be executed by the processor in following sequence:\")\n",
    "from collections import OrderedDict  #Printing the task execution sequence according to the execution time\n",
    "Task1 = sorted(Task.items())\n",
    "print(Task1)     "
   ]
  },
  {
   "cell_type": "code",
   "execution_count": null,
   "metadata": {},
   "outputs": [],
   "source": []
  }
 ],
 "metadata": {
  "kernelspec": {
   "display_name": "Python 3",
   "language": "python",
   "name": "python3"
  },
  "language_info": {
   "codemirror_mode": {
    "name": "ipython",
    "version": 3
   },
   "file_extension": ".py",
   "mimetype": "text/x-python",
   "name": "python",
   "nbconvert_exporter": "python",
   "pygments_lexer": "ipython3",
   "version": "3.7.3"
  }
 },
 "nbformat": 4,
 "nbformat_minor": 2
}
